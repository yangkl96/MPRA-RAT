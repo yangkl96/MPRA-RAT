{
 "cells": [
  {
   "cell_type": "code",
   "execution_count": 1,
   "metadata": {
    "collapsed": true
   },
   "outputs": [],
   "source": [
    "import numpy as np\n",
    "import pandas as pd\n",
    "import math, matplotlib\n",
    "import matplotlib.pyplot as plt\n",
    "import seaborn as sns\n",
    "from os import listdir\n",
    "from os.path import isfile, join"
   ]
  },
  {
   "cell_type": "code",
   "execution_count": 2,
   "metadata": {
    "collapsed": true
   },
   "outputs": [],
   "source": [
    "#mypath is the directory with the files of interest. Include '/' at end!\n",
    "def get_files(mypath):\n",
    "    return([mypath + f for f in listdir(mypath) if isfile(join(mypath, f))])\n",
    "\n",
    "#normalize up to log ratio\n",
    "#d is dict in which to store count values, files is list of file locations\n",
    "def start_normal(d, files, pseudocount = 1):\n",
    "    for f in files: \n",
    "        fkey = f.split('/')[-1]\n",
    "\n",
    "        f = pd.read_csv(f, sep=\"\\t\", header=None)\n",
    "        f.columns = ['id', 'counts']\n",
    "        f = f.iloc[1:len(f.index),:]\n",
    "        f['counts'] += pseudocount\n",
    "        \n",
    "        fsum = f['counts'].sum()\n",
    "        f['counts'] /= fsum\n",
    "\n",
    "        d[fkey] = f"
   ]
  },
  {
   "cell_type": "markdown",
   "metadata": {},
   "source": [
    "## Normalizing to log2ratio"
   ]
  },
  {
   "cell_type": "code",
   "execution_count": 3,
   "metadata": {
    "collapsed": true
   },
   "outputs": [],
   "source": [
    "DNAfiles = get_files('../Scaleup_counts_sequences/DNACOUNTS/')\n",
    "DNAdict = {}\n",
    "start_normal(DNAdict, DNAfiles)"
   ]
  },
  {
   "cell_type": "code",
   "execution_count": 4,
   "metadata": {
    "collapsed": true
   },
   "outputs": [],
   "source": [
    "RNAfiles = get_files('../Scaleup_counts_sequences/HEPG2/')\n",
    "moreRNAfiles = get_files('../Scaleup_counts_sequences/K562/')\n",
    "RNAfiles.extend(moreRNAfiles)\n",
    "RNAdict = {}\n",
    "start_normal(RNAdict, RNAfiles)"
   ]
  },
  {
   "cell_type": "code",
   "execution_count": 5,
   "metadata": {
    "collapsed": true
   },
   "outputs": [],
   "source": [
    "log2 = math.log(2)\n",
    "\n",
    "for key, val in RNAdict.items():\n",
    "    #log base switch rule (https://www.rapidtables.com/math/algebra/Logarithm.html)\n",
    "    if '1_minP' in key:\n",
    "        val['log2ratio'] = (val['counts'] / DNAdict['ScaleUpDesign1_minP_Plasmid.counts']['counts']).apply(math.log) / log2 \n",
    "    if '2_minP' in key:\n",
    "        val['log2ratio'] = (val['counts'] / DNAdict['ScaleUpDesign2_minP_Plasmid.counts']['counts']).apply(math.log) / log2\n",
    "    if '1_SV40P' in key:\n",
    "        val['log2ratio'] = (val['counts'] / DNAdict['ScaleUpDesign1_SV40P_Plasmid.counts']['counts']).apply(math.log) / log2\n",
    "    if '2_SV40P' in key:\n",
    "        val['log2ratio'] = (val['counts'] / DNAdict['ScaleUpDesign2_SV40P_Plasmid.counts']['counts']).apply(math.log) / log2"
   ]
  },
  {
   "cell_type": "code",
   "execution_count": 6,
   "metadata": {
    "collapsed": true
   },
   "outputs": [],
   "source": [
    "RNAkeys = sorted(RNAdict.keys())\n",
    "pearsondict_2designs = {}\n",
    "spearmandict_2designs = {}"
   ]
  },
  {
   "cell_type": "markdown",
   "metadata": {},
   "source": [
    "## Correlation with designs concatenated"
   ]
  },
  {
   "cell_type": "code",
   "execution_count": 7,
   "metadata": {
    "collapsed": true
   },
   "outputs": [],
   "source": [
    "#concatenating designs\n",
    "designdict = {}\n",
    "for i in [0,1,2,3,8,9,10,11]:\n",
    "    dict1 = RNAdict[RNAkeys[i]]\n",
    "    dict2 = RNAdict[RNAkeys[i + 4]]\n",
    "    \n",
    "    name = (RNAkeys[i].split('_')[0] + '_' + RNAkeys[i].split('_')[2] + '_' + RNAkeys[i].split('_')[4])\n",
    "    designdict[name] = pd.concat([dict1, dict2], ignore_index='TRUE')"
   ]
  },
  {
   "cell_type": "code",
   "execution_count": 8,
   "metadata": {
    "collapsed": true
   },
   "outputs": [],
   "source": [
    "designkeys = sorted(designdict.keys())\n",
    "pearsondict_samedesign = {}\n",
    "spearmandict_samedesign = {}\n",
    "avgscore = {}\n",
    "ids = designdict[designkeys[0]]['id']\n",
    "\n",
    "for i in range(0, len(designkeys), 2):\n",
    "    list1 = designdict[designkeys[i]]['log2ratio']\n",
    "    list2 = designdict[designkeys[i + 1]]['log2ratio']\n",
    "    \n",
    "    name = '_'.join(designkeys[i].split('_')[0:2])\n",
    "    pearson = list1.corr(list2, method = 'pearson')\n",
    "    spearman = list1.corr(list2, method = 'spearman')\n",
    "    \n",
    "    pearsondict_samedesign[name] = pearson\n",
    "    spearmandict_samedesign[name] = spearman\n",
    "    \n",
    "    avgdf = pd.DataFrame(ids, columns=['id'])\n",
    "    avgdf['score'] = pd.DataFrame([list1, list2]).mean()\n",
    "    avgscore[name] = avgdf"
   ]
  },
  {
   "cell_type": "code",
   "execution_count": 9,
   "metadata": {},
   "outputs": [
    {
     "data": {
      "text/plain": [
       "{'HepG2_SV40P': 0.3472133779395426,\n",
       " 'HepG2_minP': 0.37265899518781836,\n",
       " 'K562_SV40P': 0.39399041603661461,\n",
       " 'K562_minP': 0.47268188657251464}"
      ]
     },
     "execution_count": 9,
     "metadata": {},
     "output_type": "execute_result"
    }
   ],
   "source": [
    "spearmandict_samedesign"
   ]
  },
  {
   "cell_type": "code",
   "execution_count": 10,
   "metadata": {},
   "outputs": [
    {
     "name": "stderr",
     "output_type": "stream",
     "text": [
      "/accre/arch/easybuild/software/BinDist/Anaconda3/4.4.0/lib/python3.6/site-packages/matplotlib/axes/_axes.py:545: UserWarning: No labelled objects found. Use label='...' kwarg on individual plots.\n",
      "  warnings.warn(\"No labelled objects found. \"\n",
      "/accre/arch/easybuild/software/BinDist/Anaconda3/4.4.0/lib/python3.6/site-packages/matplotlib/font_manager.py:1297: UserWarning: findfont: Font family ['sans-serif'] not found. Falling back to DejaVu Sans\n",
      "  (prop.get_family(), self.defaultFamily[fontext]))\n"
     ]
    },
    {
     "data": {
      "image/png": "[encoded data removed]",
      "text/plain": [
       "<matplotlib.figure.Figure at 0x2abb58b1cbe0>"
      ]
     },
     "metadata": {},
     "output_type": "display_data"
    }
   ],
   "source": [
    "objects = sorted(pearsondict_samedesign.keys())\n",
    "y_pos = np.arange(len(objects))\n",
    "\n",
    "pearson_vals = [pearsondict_samedesign[key] for key in objects]\n",
    "spearman_vals = [spearmandict_samedesign[key] for key in objects]\n",
    "\n",
    "width = -0.5\n",
    "plt.figure(figsize = (12, 6))\n",
    "plt.bar(y_pos, pearson_vals, alpha = 0.75, width = width, align = 'edge')\n",
    "plt.bar(y_pos + 0.5, spearman_vals, alpha = 0.75, width = width, align = 'edge')\n",
    "plt.xticks(y_pos, objects, size = 10)\n",
    "plt.ylabel('correlation', size = 15)\n",
    "plt.legend(loc = 'upper left', prop={'size': 15})\n",
    "plt.show()"
   ]
  }
 ],
 "metadata": {
  "kernelspec": {
   "display_name": "Python 2",
   "language": "python",
   "name": "python2"
  },
  "language_info": {
   "codemirror_mode": {
    "name": "ipython",
    "version": 3
   },
   "file_extension": ".py",
   "mimetype": "text/x-python",
   "name": "python",
   "nbconvert_exporter": "python",
   "pygments_lexer": "ipython3",
   "version": "3.6.1"
  }
 },
 "nbformat": 4,
 "nbformat_minor": 2
}
