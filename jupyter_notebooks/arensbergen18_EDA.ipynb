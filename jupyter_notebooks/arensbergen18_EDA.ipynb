{
 "cells": [
  {
   "cell_type": "markdown",
   "metadata": {},
   "source": [
    "https://www.biorxiv.org/content/biorxiv/early/2018/11/04/460402.full.pdf"
   ]
  },
  {
   "cell_type": "markdown",
   "metadata": {},
   "source": [
    "## SuRE-count table\n",
    "SuRE-count tables were generated associating barcode sequences, genomic\n",
    "positions, and counts for associated PE reads and matched SE reads for each of the biological replicates. \n",
    "\n",
    "For each strand separately, we determined the cDNA barcode count for all SuRE fragments overlapping\n",
    "a given position. This total was divided by the total counts of the SuRE fragments measured in SuRE\n",
    "library (iPCR barcode counts) to give the SuRE enrichment.\n",
    "\n",
    "Within each transfection replicate the\n",
    "genome-wide normalized SuRE enrichment was scaled to a mean of 1. Transfection replicates were\n",
    "then combined by summing the SuRE enrichment scores at each position, and scaling the resulting SuRE\n",
    "enrichment scores again to a genome-wide mean of 1. Then, the library replicates were also combined\n",
    "and again scaled to a genome-wide mean enrichment score of 1. Of these datasets BigWig files were generated. This analysis was done disregarding variants and is therefore independent from the\n",
    "identification of the raQTLs (see below). \n",
    "\n",
    "This will still have the sequencing depth bias.\n",
    "\n",
    "Code adapted from Ling Chen"
   ]
  },
  {
   "cell_type": "code",
   "execution_count": 1,
   "metadata": {
    "collapsed": true
   },
   "outputs": [],
   "source": [
    "%matplotlib inline\n",
    "import os\n",
    "import numpy as np\n",
    "import pandas as pd\n",
    "import matplotlib.pyplot as plt\n",
    "import seaborn as sns\n",
    "from scipy import stats\n",
    "from sklearn.preprocessing import scale"
   ]
  },
  {
   "cell_type": "code",
   "execution_count": 2,
   "metadata": {
    "collapsed": true
   },
   "outputs": [],
   "source": [
    "MPRA_DIR = \"/dors/capra_lab/data/mpra/arensbergen18/SuRE-count/\""
   ]
  },
  {
   "cell_type": "code",
   "execution_count": 3,
   "metadata": {
    "collapsed": true
   },
   "outputs": [],
   "source": [
    "#load all files\n",
    "listofFiles = []\n",
    "for root, folders, files in os.walk('/dors/capra_lab/data/mpra/arensbergen18/SuRE-count/'):\n",
    "    for f in files:\n",
    "        if '.txt.gz' in f:\n",
    "            listofFiles += [os.path.join(root, f)]"
   ]
  },
  {
   "cell_type": "code",
   "execution_count": 4,
   "metadata": {
    "collapsed": true
   },
   "outputs": [],
   "source": [
    "def normalize_col(f, pseudocount=1):\n",
    "    df = pd.read_csv(f, compression='gzip', header=0, sep='\\t')\n",
    "    \n",
    "    #rename columns, since their libraries named differently\n",
    "    for col in df.columns:\n",
    "        for old, new in zip(['HEPG2_B1', 'HEPG2_B2', 'B1', 'B2', 'B3'], \n",
    "                            ['hep_1','hep_2','k562_1','k562_2','k562_3']):\n",
    "            if old in col:\n",
    "                df = df.rename(index=str, columns={col: new})\n",
    "                col = new #rename for removing columns\n",
    "                break\n",
    "    dft = pd.DataFrame(columns=['k562_1', 'k562_2', 'k562_3', 'hep_1', 'hep_2'])\n",
    "    dft[\"k562_1\"] = np.log2((df[\"k562_1\"] + pseudocount)/ (df['iPCR'] + pseudocount))\n",
    "    dft[\"k562_2\"] = np.log2((df[\"k562_2\"] + pseudocount)/ (df['iPCR'] + pseudocount))\n",
    "    dft[\"k562_3\"] = np.log2((df[\"k562_3\"] + pseudocount)/ (df['iPCR'] + pseudocount))\n",
    "    dft[\"hep_1\"] = np.log2((df[\"hep_1\"] + pseudocount) / (df['iPCR'] + pseudocount))\n",
    "    dft[\"hep_2\"] = np.log2((df[\"hep_2\"] + pseudocount) / (df['iPCR'] + pseudocount))\n",
    "\n",
    "    return dft"
   ]
  },
  {
   "cell_type": "markdown",
   "metadata": {},
   "source": [
    "### Correlation between biological replicates"
   ]
  },
  {
   "cell_type": "code",
   "execution_count": 5,
   "metadata": {},
   "outputs": [
    {
     "name": "stderr",
     "output_type": "stream",
     "text": [
      "/accre/arch/easybuild/software/BinDist/Anaconda3/4.4.0/lib/python3.6/site-packages/IPython/core/interactiveshell.py:2821: DtypeWarning: Columns (4,6,7,8,16,18) have mixed types. Specify dtype option on import or set low_memory=False.\n",
      "  if self.run_code(code, result):\n"
     ]
    },
    {
     "name": "stdout",
     "output_type": "stream",
     "text": [
      "1\n",
      "2\n",
      "3\n",
      "4\n",
      "5\n"
     ]
    },
    {
     "name": "stderr",
     "output_type": "stream",
     "text": [
      "/accre/arch/easybuild/software/BinDist/Anaconda3/4.4.0/lib/python3.6/site-packages/IPython/core/interactiveshell.py:2821: DtypeWarning: Columns (4,5,6,7,8,15,16,17,18) have mixed types. Specify dtype option on import or set low_memory=False.\n",
      "  if self.run_code(code, result):\n"
     ]
    },
    {
     "name": "stdout",
     "output_type": "stream",
     "text": [
      "6\n",
      "7\n",
      "8\n",
      "9\n",
      "10\n",
      "11\n",
      "12\n",
      "13\n",
      "14\n"
     ]
    },
    {
     "name": "stderr",
     "output_type": "stream",
     "text": [
      "/accre/arch/easybuild/software/BinDist/Anaconda3/4.4.0/lib/python3.6/site-packages/IPython/core/interactiveshell.py:2821: DtypeWarning: Columns (4,5,6,7,8,15,16,17) have mixed types. Specify dtype option on import or set low_memory=False.\n",
      "  if self.run_code(code, result):\n"
     ]
    },
    {
     "name": "stdout",
     "output_type": "stream",
     "text": [
      "15\n",
      "16\n",
      "17\n",
      "18\n",
      "19\n",
      "20\n",
      "21\n",
      "22\n",
      "23\n",
      "24\n",
      "25\n",
      "26\n",
      "27\n",
      "28\n",
      "29\n",
      "30\n",
      "31\n",
      "32\n",
      "33\n",
      "34\n",
      "35\n",
      "36\n",
      "37\n",
      "38\n",
      "39\n",
      "40\n",
      "41\n",
      "42\n",
      "43\n",
      "44\n",
      "45\n",
      "46\n",
      "47\n",
      "48\n",
      "49\n",
      "50\n",
      "51\n",
      "52\n",
      "53\n",
      "54\n",
      "55\n",
      "56\n",
      "57\n",
      "58\n",
      "59\n",
      "60\n",
      "61\n",
      "62\n",
      "63\n",
      "64\n",
      "65\n",
      "66\n",
      "67\n",
      "68\n",
      "69\n",
      "70\n",
      "71\n",
      "72\n",
      "73\n",
      "74\n",
      "75\n",
      "76\n",
      "77\n",
      "78\n",
      "79\n",
      "80\n",
      "81\n",
      "82\n",
      "83\n",
      "84\n",
      "85\n",
      "86\n",
      "87\n",
      "88\n",
      "89\n",
      "90\n",
      "91\n"
     ]
    },
    {
     "name": "stderr",
     "output_type": "stream",
     "text": [
      "/accre/arch/easybuild/software/BinDist/Anaconda3/4.4.0/lib/python3.6/site-packages/IPython/core/interactiveshell.py:2821: DtypeWarning: Columns (4,6,7,8,16) have mixed types. Specify dtype option on import or set low_memory=False.\n",
      "  if self.run_code(code, result):\n"
     ]
    },
    {
     "name": "stdout",
     "output_type": "stream",
     "text": [
      "92\n",
      "93\n",
      "94\n",
      "95\n",
      "96\n",
      "97\n",
      "98\n",
      "99\n",
      "100\n",
      "101\n",
      "102\n",
      "103\n",
      "104\n",
      "105\n",
      "106\n",
      "107\n",
      "108\n",
      "109\n",
      "110\n",
      "111\n",
      "112\n",
      "113\n",
      "114\n",
      "115\n",
      "116\n",
      "117\n",
      "118\n",
      "119\n",
      "120\n",
      "121\n",
      "122\n",
      "123\n",
      "124\n",
      "125\n",
      "126\n",
      "127\n",
      "128\n",
      "129\n",
      "130\n",
      "131\n",
      "132\n",
      "133\n",
      "134\n",
      "135\n",
      "136\n",
      "137\n",
      "138\n",
      "139\n",
      "140\n",
      "141\n",
      "142\n",
      "143\n",
      "144\n",
      "145\n",
      "146\n",
      "147\n",
      "148\n",
      "149\n",
      "150\n",
      "151\n",
      "152\n",
      "153\n",
      "154\n",
      "155\n",
      "156\n",
      "157\n",
      "158\n",
      "159\n",
      "160\n",
      "161\n",
      "162\n",
      "163\n",
      "164\n",
      "165\n",
      "166\n",
      "167\n",
      "168\n",
      "169\n",
      "170\n",
      "171\n",
      "172\n",
      "173\n",
      "174\n",
      "175\n",
      "176\n",
      "177\n",
      "178\n",
      "179\n",
      "180\n",
      "181\n",
      "182\n",
      "183\n",
      "184\n"
     ]
    }
   ],
   "source": [
    "corr_vals = []\n",
    "i = 0\n",
    "for f in listofFiles:\n",
    "    dft = normalize_col(f)\n",
    "    \n",
    "    d_corr = pd.DataFrame(columns=dft.columns, index=dft.columns)\n",
    "    for col1 in dft.columns:\n",
    "        for col2 in dft.columns:\n",
    "            if col1 == col2:\n",
    "                d_corr[col1][col1] = 1\n",
    "            elif pd.notnull(d_corr[col2][col1]): \n",
    "                d_corr[col1][col2] = d_corr[col2][col1]\n",
    "            else:\n",
    "                d_corr[col1][col2] = stats.spearmanr(dft[col1], dft[col2])[0]\n",
    "    d_corr = d_corr.astype(np.float32)\n",
    "    d_corr = d_corr[d_corr.columns[::-1]]\n",
    "    corr_vals.append(d_corr.values)\n",
    "    i += 1\n",
    "    print(i)"
   ]
  },
  {
   "cell_type": "code",
   "execution_count": 6,
   "metadata": {
    "collapsed": true
   },
   "outputs": [],
   "source": [
    "vals = np.zeros((5, 5))\n",
    "for i in corr_vals:\n",
    "    vals += i\n",
    "vals = vals / len(corr_vals)"
   ]
  },
  {
   "cell_type": "code",
   "execution_count": 7,
   "metadata": {},
   "outputs": [
    {
     "data": {
      "text/plain": [
       "array([[ 0.67023297,  0.67677364,  0.65910605,  0.62969688,  1.        ],\n",
       "       [ 0.64199539,  0.64628935,  0.6329141 ,  1.        ,  0.62969688],\n",
       "       [ 0.67908406,  0.68667069,  1.        ,  0.6329141 ,  0.65910605],\n",
       "       [ 0.76943218,  1.        ,  0.68667069,  0.64628935,  0.67677364],\n",
       "       [ 1.        ,  0.76943218,  0.67908406,  0.64199539,  0.67023297]])"
      ]
     },
     "execution_count": 7,
     "metadata": {},
     "output_type": "execute_result"
    }
   ],
   "source": [
    "vals"
   ]
  },
  {
   "cell_type": "code",
   "execution_count": 8,
   "metadata": {},
   "outputs": [
    {
     "name": "stderr",
     "output_type": "stream",
     "text": [
      "/accre/arch/easybuild/software/BinDist/Anaconda3/4.4.0/lib/python3.6/site-packages/matplotlib/font_manager.py:1297: UserWarning: findfont: Font family ['sans-serif'] not found. Falling back to DejaVu Sans\n",
      "  (prop.get_family(), self.defaultFamily[fontext]))\n"
     ]
    },
    {
     "data": {
      "image/png": "[encoded data removed]",
      "text/plain": [
       "<matplotlib.figure.Figure at 0x2ac7c7c539b0>"
      ]
     },
     "metadata": {},
     "output_type": "display_data"
    }
   ],
   "source": [
    "fig = plt.figure(figsize=(10, 8))\n",
    "with sns.axes_style(\"white\"):\n",
    "    ax = sns.heatmap(vals, square=True, annot=True,\n",
    "                     vmax=1, cmap=\"YlGnBu\")\n",
    "\n",
    "plt.show()"
   ]
  }
 ],
 "metadata": {
  "kernelspec": {
   "display_name": "Python 3",
   "language": "python",
   "name": "python3"
  },
  "language_info": {
   "codemirror_mode": {
    "name": "ipython",
    "version": 3
   },
   "file_extension": ".py",
   "mimetype": "text/x-python",
   "name": "python",
   "nbconvert_exporter": "python",
   "pygments_lexer": "ipython3",
   "version": "3.6.1"
  },
  "toc": {
   "base_numbering": 1,
   "nav_menu": {},
   "number_sections": true,
   "sideBar": true,
   "skip_h1_title": false,
   "title_cell": "Table of Contents",
   "title_sidebar": "Contents",
   "toc_cell": false,
   "toc_position": {},
   "toc_section_display": true,
   "toc_window_display": false
  }
 },
 "nbformat": 4,
 "nbformat_minor": 2
}
